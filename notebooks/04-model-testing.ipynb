{
 "cells": [
  {
   "cell_type": "markdown",
   "metadata": {},
   "source": [
    "# 4. Teste do modelo"
   ]
  },
  {
   "cell_type": "code",
   "execution_count": null,
   "metadata": {},
   "outputs": [],
   "source": [
    "%load_ext autoreload\n",
    "%autoreload 2\n",
    "\n",
    "%matplotlib inline\n",
    "import matplotlib.pyplot as plt\n",
    "import numpy as np\n",
    "import h5py\n",
    "import keras\n",
    "import k3d\n",
    "from sklearn.metrics import confusion_matrix, f1_score\n",
    "from ipywidgets import interact, widgets\n",
    "\n",
    "import src"
   ]
  },
  {
   "cell_type": "code",
   "execution_count": null,
   "metadata": {},
   "outputs": [],
   "source": [
    "with h5py.File('../data/processed/stanford6_truncated_rgb.h5', 'r') as dataset:\n",
    "    x_test = np.array(dataset['test/X'])\n",
    "    y_test = np.array(dataset['test/Y'])\n",
    "    \n",
    "with h5py.File('../data/interim/stanford6_truncated_rgb.h5', 'r') as dataset:\n",
    "    true_labels = np.array(dataset['test/Y'])  \n",
    "\n",
    "classnames = {\n",
    "    0: 'Floodplain',\n",
    "    1: 'Pointbar',\n",
    "    2: 'Channel',\n",
    "    3: 'Boundary',\n",
    "}\n",
    "\n",
    "model = keras.models.load_model('../models/trained_model.h5')\n",
    "model.summary()"
   ]
  },
  {
   "cell_type": "code",
   "execution_count": null,
   "metadata": {},
   "outputs": [],
   "source": [
    "scores = model.evaluate(x_test, y_test, verbose=1)\n",
    "for i, score in enumerate(scores):\n",
    "    print(f'Test {model.metrics_names[i]}: {score}')\n",
    "      \n",
    "predict_class = np.argmax(model.predict(x_test), axis=1)\n",
    "print(f'F1-score: {f1_score(true_labels, predict_class, average=\"weighted\")}')\n",
    "matrix = confusion_matrix(true_labels, predict_class)\n",
    "matrix = matrix.astype('float') / matrix.sum(axis=1)[:, np.newaxis]\n",
    "      \n",
    "src.plot_confusion_matrix(matrix, classnames.values(), title=\"Confusion matrix\")"
   ]
  },
  {
   "cell_type": "code",
   "execution_count": null,
   "metadata": {},
   "outputs": [],
   "source": [
    "def plot_section(z=0):\n",
    "    plt.subplot(121)\n",
    "    plt.imshow(true_labels.reshape(119, 169, 88)[:,:,z].T)\n",
    "    plt.subplot(122)\n",
    "    plt.imshow(predict_class.reshape(119, 169, 88)[:,:,z].T)\n",
    "    \n",
    "interact(plot_section, z=widgets.IntSlider(min=0,max=87,step=1,value=0))"
   ]
  },
  {
   "cell_type": "code",
   "execution_count": null,
   "metadata": {},
   "outputs": [],
   "source": [
    "color_map = (0x3A528B, 0x20908C, 0xFDE724)\n",
    "\n",
    "plot = k3d.plot(camera_auto_fit=False)\n",
    "obj = k3d.voxels(predict_class.reshape(119, 169, 88).T, color_map, compression_level=1)\n",
    "plot += obj\n",
    "plot.camera=[150, 230, -40, 60, 85, 80, 0.0, 0.0, -1.0]\n",
    "plot.display()"
   ]
  },
  {
   "cell_type": "code",
   "execution_count": null,
   "metadata": {},
   "outputs": [],
   "source": [
    "color_map = (0x3A528B, 0x20908C, 0xFDE724)\n",
    "\n",
    "plot = k3d.plot(camera_auto_fit=False)\n",
    "obj = k3d.voxels(true_labels.reshape(119, 169, 88).T, color_map, compression_level=1)\n",
    "plot += obj\n",
    "plot.camera=[150, 230, -40, 60, 85, 80, 0.0, 0.0, -1.0]\n",
    "plot.display()"
   ]
  }
 ],
 "metadata": {
  "kernelspec": {
   "display_name": "Python 3",
   "language": "python",
   "name": "python3"
  },
  "language_info": {
   "codemirror_mode": {
    "name": "ipython",
    "version": 3
   },
   "file_extension": ".py",
   "mimetype": "text/x-python",
   "name": "python",
   "nbconvert_exporter": "python",
   "pygments_lexer": "ipython3",
   "version": "3.7.3"
  }
 },
 "nbformat": 4,
 "nbformat_minor": 2
}
