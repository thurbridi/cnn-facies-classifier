{
 "cells": [
  {
   "cell_type": "markdown",
   "metadata": {},
   "source": [
    "# 4. Teste do modelo"
   ]
  },
  {
   "cell_type": "code",
   "execution_count": null,
   "metadata": {},
   "outputs": [],
   "source": [
    "%load_ext autoreload\n",
    "%autoreload 2\n",
    "\n",
    "%matplotlib inline\n",
    "import matplotlib.pyplot as plt\n",
    "import numpy as np\n",
    "import h5py\n",
    "import keras\n",
    "import k3d\n",
    "from sklearn.metrics import confusion_matrix, f1_score, precision_score, recall_score\n",
    "from ipywidgets import interact, widgets\n",
    "\n",
    "import src"
   ]
  },
  {
   "cell_type": "code",
   "execution_count": null,
   "metadata": {},
   "outputs": [],
   "source": [
    "with h5py.File('../data/processed/stanford6_32.h5', 'r') as dataset:\n",
    "    x_test = np.array(dataset['test/X'])\n",
    "    y_test = np.array(dataset['test/Y'])\n",
    "\n",
    "classnames = {\n",
    "    0: 'Floodplain',\n",
    "    1: 'Pointbar',\n",
    "    2: 'Channel',\n",
    "    3: 'Boundary',\n",
    "}\n",
    "\n",
    "model = keras.models.load_model('../models/trained_model_32.h5')\n",
    "model.summary()"
   ]
  },
  {
   "cell_type": "code",
   "execution_count": null,
   "metadata": {},
   "outputs": [],
   "source": [
    "print('Evaluating model...\\n')\n",
    "y_pred = np.argmax(model.predict(x_test), axis=-1)\n",
    "y_true = np.argmax(y_test, axis=-1)\n",
    "\n",
    "precision = precision_score(y_true, y_pred, average='weighted')\n",
    "recall = recall_score(y_true, y_pred, average='weighted')\n",
    "f1 = f1_score(y_true, y_pred, average='weighted')\n",
    "\n",
    "matrix = confusion_matrix(y_true, y_pred)\n",
    "matrix = matrix.astype('float') / matrix.sum(axis=1)[:, np.newaxis]\n",
    "\n",
    "print(f'Precision: \\t{precision}')\n",
    "print(f'Recall: \\t{recall}')\n",
    "print(f'F1-Score: \\t{f1}')\n",
    "\n",
    "src.plot_confusion_matrix(matrix, classnames.values(), title=\"Confusion matrix\")"
   ]
  },
  {
   "cell_type": "code",
   "execution_count": null,
   "metadata": {},
   "outputs": [],
   "source": [
    "image_size = 32\n",
    "output_shape = [150 + 1 - image_size, 200 + 1 - image_size, 119 + 1 - image_size]\n",
    "\n",
    "def plot_section(z=0):\n",
    "    plt.subplot(121)\n",
    "    plt.imshow(y_true.reshape(output_shape)[:,:,z].T)\n",
    "    plt.subplot(122)\n",
    "    plt.imshow(y_pred.reshape(output_shape)[:,:,z].T)\n",
    "\n",
    "interact(plot_section, z=widgets.IntSlider(min=0,max=119 - image_size,step=1,value=0))"
   ]
  },
  {
   "cell_type": "code",
   "execution_count": null,
   "metadata": {},
   "outputs": [],
   "source": [
    "color_map = (0x3A528B, 0x20908C, 0xFDE724)\n",
    "\n",
    "plot = k3d.plot(camera_auto_fit=False)\n",
    "obj = k3d.voxels(y_pred.reshape(output_shape).T, color_map, compression_level=1)\n",
    "plot += obj\n",
    "plot.camera=[150, 230, -40, 60, 85, 80, 0.0, 0.0, -1.0]\n",
    "plot.display()"
   ]
  },
  {
   "cell_type": "code",
   "execution_count": null,
   "metadata": {},
   "outputs": [],
   "source": [
    "color_map = (0x3A528B, 0x20908C, 0xFDE724)\n",
    "\n",
    "plot = k3d.plot(camera_auto_fit=False)\n",
    "obj = k3d.voxels(y_true.reshape(output_shape).T, color_map, compression_level=1)\n",
    "plot += obj\n",
    "plot.camera=[150, 230, -40, 60, 85, 80, 0.0, 0.0, -1.0]\n",
    "plot.display()"
   ]
  }
 ],
 "metadata": {
  "kernelspec": {
   "display_name": "Python 3",
   "language": "python",
   "name": "python3"
  },
  "language_info": {
   "codemirror_mode": {
    "name": "ipython",
    "version": 3
   },
   "file_extension": ".py",
   "mimetype": "text/x-python",
   "name": "python",
   "nbconvert_exporter": "python",
   "pygments_lexer": "ipython3",
   "version": "3.7.3"
  }
 },
 "nbformat": 4,
 "nbformat_minor": 2
}
