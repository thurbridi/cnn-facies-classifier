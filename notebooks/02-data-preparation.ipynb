{
 "cells": [
  {
   "cell_type": "markdown",
   "metadata": {},
   "source": [
    "# 2. Preparação dos dados para a rede"
   ]
  },
  {
   "cell_type": "code",
   "execution_count": null,
   "metadata": {},
   "outputs": [],
   "source": [
    "%load_ext autoreload\n",
    "%autoreload 2\n",
    "\n",
    "%matplotlib inline\n",
    "import os\n",
    "import matplotlib.pyplot as plt\n",
    "import numpy as np\n",
    "import h5py\n",
    "import keras\n",
    "from imblearn.over_sampling import ADASYN, RandomOverSampler\n",
    "\n",
    "import src"
   ]
  },
  {
   "cell_type": "code",
   "execution_count": null,
   "metadata": {},
   "outputs": [],
   "source": [
    "with h5py.File('../data/interim/stanford6_truncated_rgb.h5', 'r') as dataset:\n",
    "    x_train_original = np.array(dataset['train/X'])\n",
    "    y_train_original = np.array(dataset['train/Y'])\n",
    "    x_test_original = np.array(dataset['test/X'])\n",
    "    y_test_original = np.array(dataset['test/Y'])\n",
    "    \n",
    "classnames = {\n",
    "    0: 'Floodplain',\n",
    "    1: 'Pointbar',\n",
    "    2: 'Channel',\n",
    "    3: 'Boundary',\n",
    "}        \n",
    "\n",
    "m = x_train_original.shape[0]\n",
    "num_classes = 4\n",
    "\n",
    "resampler = RandomOverSampler()\n",
    "\n",
    "x_train_resampled, y_train_resampled = resampler.fit_resample(\n",
    "    np.reshape(x_train_original, (m, np.product(x_train_original.shape[1:]))), \n",
    "    y_train_original\n",
    ")\n",
    "x_train_resampled = np.reshape(\n",
    "    x_train_resampled, \n",
    "    (x_train_resampled.shape[0], *x_train_original.shape[1:])\n",
    ")\n",
    "\n",
    "src.plot_classes_freq(\n",
    "    src.class_frequency(y_train_resampled, num_classes),\n",
    "    classnames.values(),\n",
    "    title='Resampled training set'\n",
    ")"
   ]
  },
  {
   "cell_type": "code",
   "execution_count": null,
   "metadata": {},
   "outputs": [],
   "source": [
    "np.random.seed(42)\n",
    "\n",
    "m = x_train_resampled.shape[0]\n",
    "idx = np.random.choice(m, int(m * 0.2))\n",
    "mask = np.ones(m, dtype=bool)\n",
    "mask[idx] = False\n",
    "\n",
    "x_train_split, x_val_split = x_train_resampled[mask], x_train_resampled[idx]\n",
    "y_train_split, y_val_split = y_train_resampled[mask], y_train_resampled[idx]\n",
    "\n",
    "\n",
    "src.plot_classes_freq(\n",
    "    src.class_frequency(y_train_split, num_classes),\n",
    "    classnames.values(),\n",
    "    title='Final training set'\n",
    ")\n",
    "\n",
    "src.plot_classes_freq(\n",
    "    src.class_frequency(y_val_split, num_classes),\n",
    "    classnames.values(),\n",
    "    title='Final validation set'\n",
    ")"
   ]
  },
  {
   "cell_type": "code",
   "execution_count": null,
   "metadata": {},
   "outputs": [],
   "source": [
    "x_train = x_train_split.astype('float16') / 255\n",
    "y_train = keras.utils.to_categorical(y_train_split, num_classes)\n",
    "\n",
    "x_val = x_val_split.astype('float16') / 255\n",
    "y_val= keras.utils.to_categorical(y_val_split, num_classes)\n",
    "\n",
    "x_test = x_test_original.astype('float16') / 255\n",
    "y_test = keras.utils.to_categorical(y_test_original, num_classes)\n",
    "\n",
    "filename = '../data/processed/stanford6_truncated_rgb.h5'\n",
    "\n",
    "with h5py.File(filename, 'w') as file:\n",
    "    file.create_dataset('test/X', data=x_test)\n",
    "    file.create_dataset('test/Y', data=y_test)\n",
    "    \n",
    "    file.create_dataset('val/X', data=x_val)\n",
    "    file.create_dataset('val/Y', data=y_val)\n",
    "    \n",
    "    file.create_dataset('train/X', data=x_train)\n",
    "    file.create_dataset('train/Y', data=y_train)\n"
   ]
  },
  {
   "cell_type": "markdown",
   "metadata": {},
   "source": [
    "[**3. CNN Training**](03-cnn-training.ipynb)"
   ]
  }
 ],
 "metadata": {
  "kernelspec": {
   "display_name": "Python 3",
   "language": "python",
   "name": "python3"
  },
  "language_info": {
   "codemirror_mode": {
    "name": "ipython",
    "version": 3
   },
   "file_extension": ".py",
   "mimetype": "text/x-python",
   "name": "python",
   "nbconvert_exporter": "python",
   "pygments_lexer": "ipython3",
   "version": "3.7.3"
  }
 },
 "nbformat": 4,
 "nbformat_minor": 2
}
